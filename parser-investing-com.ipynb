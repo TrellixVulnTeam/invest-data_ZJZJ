{
 "cells": [
  {
   "cell_type": "code",
   "execution_count": 1,
   "metadata": {},
   "outputs": [],
   "source": [
    "import requests\n",
    "from bs4 import BeautifulSoup\n",
    "from fake_useragent import UserAgent"
   ]
  },
  {
   "cell_type": "code",
   "execution_count": 2,
   "metadata": {},
   "outputs": [],
   "source": [
    "url = 'https://ru.investing.com/equities/vtb_rts-income-statement'\n",
    "r = requests.get(url, headers={'User-Agent': UserAgent().chrome})"
   ]
  },
  {
   "cell_type": "code",
   "execution_count": 3,
   "metadata": {},
   "outputs": [],
   "source": [
    "soup = BeautifulSoup(r.text, 'lxml')\n"
   ]
  },
  {
   "cell_type": "code",
   "execution_count": 4,
   "metadata": {},
   "outputs": [],
   "source": [
    "table_row = soup.find('table', class_ = 'genTbl reportTbl').find('tr', id = 'header_row').find_all('th') "
   ]
  },
  {
   "cell_type": "code",
   "execution_count": 5,
   "metadata": {},
   "outputs": [],
   "source": [
    "period = []"
   ]
  },
  {
   "cell_type": "code",
   "execution_count": 8,
   "metadata": {},
   "outputs": [
    {
     "ename": "NameError",
     "evalue": "name 'years' is not defined",
     "output_type": "error",
     "traceback": [
      "\u001b[1;31m---------------------------------------------------------------------------\u001b[0m",
      "\u001b[1;31mNameError\u001b[0m                                 Traceback (most recent call last)",
      "\u001b[1;32m<ipython-input-8-90b452ec8306>\u001b[0m in \u001b[0;36m<module>\u001b[1;34m\u001b[0m\n\u001b[0;32m      6\u001b[0m     \u001b[1;32mfor\u001b[0m \u001b[0mi\u001b[0m \u001b[1;32min\u001b[0m \u001b[0mdiv\u001b[0m\u001b[1;33m:\u001b[0m\u001b[1;33m\u001b[0m\u001b[1;33m\u001b[0m\u001b[0m\n\u001b[0;32m      7\u001b[0m         \u001b[0mmonth\u001b[0m \u001b[1;33m=\u001b[0m \u001b[0mi\u001b[0m\u001b[1;33m.\u001b[0m\u001b[0mtext\u001b[0m\u001b[1;33m\u001b[0m\u001b[1;33m\u001b[0m\u001b[0m\n\u001b[1;32m----> 8\u001b[1;33m     \u001b[0mtext\u001b[0m \u001b[1;33m=\u001b[0m \u001b[1;34m\"{0}/{1}\"\u001b[0m\u001b[1;33m.\u001b[0m\u001b[0mformat\u001b[0m\u001b[1;33m(\u001b[0m\u001b[0myears\u001b[0m\u001b[1;33m,\u001b[0m \u001b[0mmonth\u001b[0m\u001b[1;33m)\u001b[0m\u001b[1;33m\u001b[0m\u001b[1;33m\u001b[0m\u001b[0m\n\u001b[0m\u001b[0;32m      9\u001b[0m     \u001b[0mperiod\u001b[0m\u001b[1;33m.\u001b[0m\u001b[0mappend\u001b[0m\u001b[1;33m(\u001b[0m\u001b[0mtext\u001b[0m\u001b[1;33m)\u001b[0m\u001b[1;33m\u001b[0m\u001b[1;33m\u001b[0m\u001b[0m\n",
      "\u001b[1;31mNameError\u001b[0m: name 'years' is not defined"
     ]
    }
   ],
   "source": [
    "for tag in table_row:\n",
    "    span = tag.find_all('span', class_ = 'bold')\n",
    "    for i in span:\n",
    "        years = i.text\n",
    "    div = tag.find_all('div', class_ = 'noBold arial_11')\n",
    "    for i in div:\n",
    "        month = i.text\n",
    "    text = \"{0}/{1}\".format(years, month)\n",
    "    period.append(text)"
   ]
  },
  {
   "cell_type": "code",
   "execution_count": 9,
   "metadata": {},
   "outputs": [
    {
     "data": {
      "text/plain": [
       "[]"
      ]
     },
     "execution_count": 9,
     "metadata": {},
     "output_type": "execute_result"
    }
   ],
   "source": [
    "period"
   ]
  },
  {
   "cell_type": "code",
   "execution_count": 10,
   "metadata": {},
   "outputs": [],
   "source": [
    "trs = soup.find('table', class_ = 'genTbl reportTbl').find('tbody').find_all('tr')"
   ]
  },
  {
   "cell_type": "code",
   "execution_count": 11,
   "metadata": {},
   "outputs": [],
   "source": [
    "data = []"
   ]
  },
  {
   "cell_type": "code",
   "execution_count": 12,
   "metadata": {},
   "outputs": [],
   "source": [
    "for tr in trs:\n",
    "    tds = tr.text.split('\\n')\n",
    "    for i in tds:\n",
    "        t = i.strip('')\n",
    "        data.append(t)"
   ]
  },
  {
   "cell_type": "code",
   "execution_count": 33,
   "metadata": {
    "scrolled": true
   },
   "outputs": [],
   "source": [
    "new_data = []\n",
    "for i in data:\n",
    "    if i != '':\n",
    "        new_data.append(i)"
   ]
  },
  {
   "cell_type": "code",
   "execution_count": 34,
   "metadata": {},
   "outputs": [
    {
     "data": {
      "text/plain": [
       "['Чистый процентный доход',\n",
       " '127900',\n",
       " '124500',\n",
       " '117800',\n",
       " '116800',\n",
       " ' ',\n",
       " 'Процентные доходы',\n",
       " '263600',\n",
       " '279800',\n",
       " '281800',\n",
       " '276700',\n",
       " ' ',\n",
       " 'Процентные расходы',\n",
       " '135700',\n",
       " '155300',\n",
       " '164000',\n",
       " '159900',\n",
       " 'Процентные доходы',\n",
       " '263600',\n",
       " '279800',\n",
       " '281800',\n",
       " '276700',\n",
       " 'Процентные расходы',\n",
       " '135700',\n",
       " '155300',\n",
       " '164000',\n",
       " '159900',\n",
       " 'Резерв на покрытие потерь по кредитам',\n",
       " '42900',\n",
       " '16700',\n",
       " '29900',\n",
       " '31300',\n",
       " 'Чистые процентные доходы после создания резерва на возможные потери по кредитам и ссудам',\n",
       " '85000',\n",
       " '107800',\n",
       " '87900',\n",
       " '85500',\n",
       " 'Непроцентные доходы, банк',\n",
       " '138800',\n",
       " '149200',\n",
       " '104400',\n",
       " '79200',\n",
       " 'Непроцентные расходы, банк',\n",
       " '-169800',\n",
       " '-167000',\n",
       " '-128200',\n",
       " '-127000',\n",
       " 'Чистая прибыль до налогов',\n",
       " '54000',\n",
       " '90000',\n",
       " '64100',\n",
       " '37700',\n",
       " 'Отчисления на уплату налогов',\n",
       " '14200',\n",
       " '16800',\n",
       " '12900',\n",
       " '7400',\n",
       " 'Чистый доход после уплаты налогов',\n",
       " '39800',\n",
       " '73200',\n",
       " '51200',\n",
       " '30300',\n",
       " 'Доля меньшинства',\n",
       " '5400',\n",
       " '400',\n",
       " '-300',\n",
       " '600',\n",
       " 'Акции в филиалах',\n",
       " '-',\n",
       " '-',\n",
       " '-',\n",
       " '-',\n",
       " 'Перерасчет согласно общепринятым принципам бухгалтерского учёта США',\n",
       " '-',\n",
       " '-',\n",
       " '-',\n",
       " '-',\n",
       " 'Чистая прибыль до вычета чрезвычайных статей',\n",
       " '45200',\n",
       " '73600',\n",
       " '50900',\n",
       " '30900',\n",
       " 'Чрезвычайные статьи',\n",
       " '-',\n",
       " '-',\n",
       " '-',\n",
       " '-',\n",
       " 'Чистая прибыль',\n",
       " '45200',\n",
       " '73600',\n",
       " '50900',\n",
       " '30900',\n",
       " 'Корректировка чистой прибыли',\n",
       " '-',\n",
       " '-6800',\n",
       " '-',\n",
       " '-7000',\n",
       " 'Прибыль по обыкновенным акциям, за исключением чрезвычайных статей',\n",
       " '45200',\n",
       " '66800',\n",
       " '50900',\n",
       " '23900',\n",
       " 'Корректировка на размывание акционерного капитала',\n",
       " '-',\n",
       " '-',\n",
       " '-',\n",
       " '-',\n",
       " 'Разводненная прибыль',\n",
       " '45200',\n",
       " '66800',\n",
       " '50900',\n",
       " '23900',\n",
       " 'Разводненное средневзвешенное количество акций в обращении',\n",
       " '12956615,1',\n",
       " '12956520,33',\n",
       " '12954507,27',\n",
       " '12954842,23',\n",
       " 'Прибыль на акцию после дополнительной эмиссии за исключением чрезвычайных статей',\n",
       " '-',\n",
       " '0,01',\n",
       " '-',\n",
       " '-',\n",
       " 'Сумма дивидендов на каждую обыкновенную акцию',\n",
       " '-',\n",
       " '-',\n",
       " '-',\n",
       " '-',\n",
       " 'Нормализованная прибыль на акцию после дополнительной эмиссии',\n",
       " '0,01',\n",
       " '0,01',\n",
       " '-',\n",
       " '-']"
      ]
     },
     "execution_count": 34,
     "metadata": {},
     "output_type": "execute_result"
    }
   ],
   "source": [
    "new_data"
   ]
  },
  {
   "cell_type": "code",
   "execution_count": 15,
   "metadata": {},
   "outputs": [],
   "source": [
    "data_dict = {}"
   ]
  },
  {
   "cell_type": "code",
   "execution_count": 35,
   "metadata": {},
   "outputs": [
    {
     "ename": "NameError",
     "evalue": "name 'newdata' is not defined",
     "output_type": "error",
     "traceback": [
      "\u001b[1;31m---------------------------------------------------------------------------\u001b[0m",
      "\u001b[1;31mNameError\u001b[0m                                 Traceback (most recent call last)",
      "\u001b[1;32m<ipython-input-35-ce848b41ce8a>\u001b[0m in \u001b[0;36m<module>\u001b[1;34m\u001b[0m\n\u001b[1;32m----> 1\u001b[1;33m \u001b[1;32mfor\u001b[0m \u001b[0mi\u001b[0m \u001b[1;32min\u001b[0m \u001b[0mnewdata\u001b[0m\u001b[1;33m:\u001b[0m\u001b[1;33m\u001b[0m\u001b[1;33m\u001b[0m\u001b[0m\n\u001b[0m\u001b[0;32m      2\u001b[0m     \u001b[1;32mif\u001b[0m \u001b[1;32mnot\u001b[0m \u001b[0mi\u001b[0m\u001b[1;33m.\u001b[0m\u001b[0misdigit\u001b[0m\u001b[1;33m(\u001b[0m\u001b[1;33m)\u001b[0m\u001b[1;33m:\u001b[0m\u001b[1;33m\u001b[0m\u001b[1;33m\u001b[0m\u001b[0m\n\u001b[0;32m      3\u001b[0m         \u001b[1;32mif\u001b[0m \u001b[0mi\u001b[0m\u001b[1;33m!=\u001b[0m\u001b[0mnewdata\u001b[0m\u001b[1;33m[\u001b[0m\u001b[1;36m0\u001b[0m\u001b[1;33m]\u001b[0m\u001b[1;33m:\u001b[0m\u001b[1;33m\u001b[0m\u001b[1;33m\u001b[0m\u001b[0m\n\u001b[0;32m      4\u001b[0m             \u001b[0mdata_dict\u001b[0m\u001b[1;33m[\u001b[0m\u001b[0mkey\u001b[0m\u001b[1;33m]\u001b[0m \u001b[1;33m=\u001b[0m \u001b[0mvalues\u001b[0m\u001b[1;33m\u001b[0m\u001b[1;33m\u001b[0m\u001b[0m\n\u001b[0;32m      5\u001b[0m         \u001b[0mkey\u001b[0m \u001b[1;33m=\u001b[0m \u001b[0mi\u001b[0m\u001b[1;33m\u001b[0m\u001b[1;33m\u001b[0m\u001b[0m\n",
      "\u001b[1;31mNameError\u001b[0m: name 'newdata' is not defined"
     ]
    }
   ],
   "source": [
    "for i in newdata:\n",
    "    if not i.isdigit():\n",
    "        if i!=newdata[0]:\n",
    "            data_dict[key] = values    \n",
    "        key = i\n",
    "        values = []\n",
    "    else:\n",
    "        values.append(i)\n",
    "        \n",
    "data_dict[key] = values\n"
   ]
  },
  {
   "cell_type": "code",
   "execution_count": 36,
   "metadata": {},
   "outputs": [
    {
     "data": {
      "text/plain": [
       "{'Чистый процентный доход': ['127900', '124500', '117800', '116800'],\n",
       " ' ': [],\n",
       " 'Процентные доходы': ['263600', '279800', '281800', '276700'],\n",
       " 'Процентные расходы': ['135700', '155300', '164000', '159900'],\n",
       " 'Резерв на покрытие потерь по кредитам': ['42900', '16700', '29900', '31300'],\n",
       " 'Чистые процентные доходы после создания резерва на возможные потери по кредитам и ссудам': ['85000',\n",
       "  '107800',\n",
       "  '87900',\n",
       "  '85500'],\n",
       " 'Непроцентные доходы, банк': ['138800', '149200', '104400', '79200'],\n",
       " 'Непроцентные расходы, банк': [],\n",
       " '-169800': [],\n",
       " '-167000': [],\n",
       " '-128200': [],\n",
       " '-127000': [],\n",
       " 'Чистая прибыль до налогов': ['54000', '90000', '64100', '37700'],\n",
       " 'Отчисления на уплату налогов': ['14200', '16800', '12900', '7400'],\n",
       " 'Чистый доход после уплаты налогов': ['39800', '73200', '51200', '30300'],\n",
       " 'Доля меньшинства': ['5400', '400'],\n",
       " '-300': ['600'],\n",
       " 'Акции в филиалах': [],\n",
       " '-': [],\n",
       " 'Перерасчет согласно общепринятым принципам бухгалтерского учёта США': [],\n",
       " 'Чистая прибыль до вычета чрезвычайных статей': ['45200',\n",
       "  '73600',\n",
       "  '50900',\n",
       "  '30900'],\n",
       " 'Чрезвычайные статьи': [],\n",
       " 'Чистая прибыль': ['45200', '73600', '50900', '30900'],\n",
       " 'Корректировка чистой прибыли': [],\n",
       " '-6800': [],\n",
       " '-7000': [],\n",
       " 'Прибыль по обыкновенным акциям, за исключением чрезвычайных статей': ['45200',\n",
       "  '66800',\n",
       "  '50900',\n",
       "  '23900'],\n",
       " 'Корректировка на размывание акционерного капитала': [],\n",
       " 'Разводненная прибыль': ['45200', '66800', '50900', '23900'],\n",
       " 'Разводненное средневзвешенное количество акций в обращении': [],\n",
       " '12956615,1': [],\n",
       " '12956520,33': [],\n",
       " '12954507,27': [],\n",
       " '12954842,23': [],\n",
       " 'Прибыль на акцию после дополнительной эмиссии за исключением чрезвычайных статей': [],\n",
       " '0,01': [],\n",
       " 'Сумма дивидендов на каждую обыкновенную акцию': [],\n",
       " 'Нормализованная прибыль на акцию после дополнительной эмиссии': []}"
      ]
     },
     "execution_count": 36,
     "metadata": {},
     "output_type": "execute_result"
    }
   ],
   "source": [
    "data_dict"
   ]
  },
  {
   "cell_type": "code",
   "execution_count": null,
   "metadata": {},
   "outputs": [],
   "source": []
  }
 ],
 "metadata": {
  "kernelspec": {
   "display_name": "Python 3",
   "language": "python",
   "name": "python3"
  },
  "language_info": {
   "codemirror_mode": {
    "name": "ipython",
    "version": 3
   },
   "file_extension": ".py",
   "mimetype": "text/x-python",
   "name": "python",
   "nbconvert_exporter": "python",
   "pygments_lexer": "ipython3",
   "version": "3.8.5"
  }
 },
 "nbformat": 4,
 "nbformat_minor": 4
}
